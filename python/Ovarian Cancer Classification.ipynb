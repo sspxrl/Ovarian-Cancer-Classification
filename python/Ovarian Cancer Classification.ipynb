{
 "cells": [
  {
   "cell_type": "code",
   "execution_count": 1,
   "metadata": {},
   "outputs": [],
   "source": [
    "import pandas as pd\n",
    "df = pd.read_csv('../data/ovarian_cancer_dataset.csv')"
   ]
  },
  {
   "cell_type": "code",
   "execution_count": 2,
   "metadata": {},
   "outputs": [],
   "source": [
    "from sklearn.model_selection import train_test_split\n",
    "from sklearn.compose import ColumnTransformer\n",
    "from sklearn.preprocessing import OneHotEncoder, LabelEncoder\n",
    "\n",
    "target_col='Cancer'\n",
    "categorical_cols=['Histologic types of cancer', 'FIGO stage of tumor']\n",
    "numeric_cols=['age', 'CA-125 (U/mL)', 'AST (U/L)', 'ALT (U/L)', 'Albumin (g/dL)',\n",
    "              'Sodium (mmol/L)', 'Creatinine (mg/dL)', 'White blood cell (/uL)',\n",
    "              'Lymph (/uL)', 'CA19-9 (U/mL)', 'Fibrinogen (mg/dL)']\n",
    "\n",
    "validation_fraction=0.3\n",
    "random_state=12345\n",
    "\n",
    "# Split the data\n",
    "X = df.drop(columns=[target_col])\n",
    "y = df[target_col]\n",
    "X_train, X_val, y_train, y_val = train_test_split(X, y, test_size=validation_fraction,\n",
    "                                                    random_state=random_state)\n",
    "\n",
    "preprocessor = ColumnTransformer(\n",
    "    transformers=[\n",
    "        ('num', 'passthrough', numeric_cols),\n",
    "        ('cat', OneHotEncoder(drop='first', sparse_output=False), categorical_cols)\n",
    "    ])"
   ]
  },
  {
   "cell_type": "code",
   "execution_count": null,
   "metadata": {},
   "outputs": [],
   "source": [
    "from sklearn.ensemble import GradientBoostingClassifier #sklearn.ensemble vs sasviya.ml.tree\n",
    "from sklearn.pipeline import Pipeline\n",
    "from sklearn.feature_selection import RFECV\n",
    "\n",
    "gb = GradientBoostingClassifier(min_samples_leaf=5, \n",
    "                                n_estimators=100, \n",
    "                                max_depth=4, \n",
    "                                subsample=0.5)\n",
    "\n",
    "# Create pipeline\n",
    "pipeline = Pipeline([\n",
    "    ('preprocessor', preprocessor),\n",
    "    ('classifier', gb)\n",
    "])\n",
    "\n",
    "# Fit the pipeline\n",
    "pipeline.fit(X_train, y_train)"
   ]
  },
  {
   "cell_type": "code",
   "execution_count": null,
   "metadata": {},
   "outputs": [],
   "source": [
    "from sklearn.metrics import accuracy_score, classification_report\n",
    "predictions = pipeline.predict(X_val)\n",
    "from sklearn.metrics import f1_score\n",
    "accuracy = accuracy_score(y_val,predictions)\n",
    "accuracy"
   ]
  },
  {
   "cell_type": "code",
   "execution_count": null,
   "metadata": {},
   "outputs": [],
   "source": [
    "from sklearn.metrics import confusion_matrix, classification_report, accuracy_score, precision_score, recall_score, f1_score\n",
    "\n",
    "print(\"Confusion Matrix:\")\n",
    "print(confusion_matrix(y_val, predictions))\n",
    "\n",
    "\n",
    "print(\"Precision:\",precision_score(y_val, predictions, average=None))\n",
    "print(\"Recall:\",recall_score(y_val, predictions, average=None))\n",
    "print(\"F1 score:\",f1_score(y_val, predictions, average=None))\n",
    "\n",
    "print(\"\\nClassification Report:\",classification_report(y_val, predictions))"
   ]
  },
  {
   "cell_type": "code",
   "execution_count": null,
   "metadata": {},
   "outputs": [],
   "source": [
    "from sklearn.linear_model import LogisticRegression #sklearn vs sasviya.ml.linear_model\n",
    "from sklearn.pipeline import Pipeline\n",
    "from sklearn.feature_selection import RFECV\n",
    "\n",
    "logmodel = LogisticRegression(solver='lbfgs', tol=1e-4, max_iter=1000, verbose=True)\n",
    "# Create pipeline\n",
    "pipeline = Pipeline([\n",
    "    ('preprocessor', preprocessor),\n",
    "    ('classifier', logmodel)\n",
    "])\n",
    "\n",
    "# Fit the pipeline\n",
    "pipeline.fit(X_train, y_train)"
   ]
  },
  {
   "cell_type": "code",
   "execution_count": null,
   "metadata": {},
   "outputs": [],
   "source": [
    "from sklearn.metrics import accuracy_score, classification_report\n",
    "predictions = pipeline.predict(X_val)\n",
    "from sklearn.metrics import f1_score\n",
    "accuracy = accuracy_score(y_val,predictions)\n",
    "accuracy"
   ]
  },
  {
   "cell_type": "code",
   "execution_count": null,
   "metadata": {},
   "outputs": [],
   "source": [
    "from sklearn.metrics import confusion_matrix, classification_report, accuracy_score, precision_score, recall_score, f1_score\n",
    "\n",
    "print(\"Confusion Matrix:\")\n",
    "print(confusion_matrix(y_val, predictions))\n",
    "\n",
    "\n",
    "print(\"Precision:\",precision_score(y_val, predictions, average=None))\n",
    "print(\"Recall:\",recall_score(y_val, predictions, average=None))\n",
    "print(\"F1 score:\",f1_score(y_val, predictions, average=None))\n",
    "\n",
    "print(\"\\nClassification Report:\",classification_report(y_val, predictions))"
   ]
  }
 ],
 "metadata": {
  "kernelspec": {
   "display_name": "Python 3",
   "language": "python",
   "name": "python3"
  },
  "language_info": {
   "codemirror_mode": {
    "name": "ipython",
    "version": 3
   },
   "file_extension": ".py",
   "mimetype": "text/x-python",
   "name": "python",
   "nbconvert_exporter": "python",
   "pygments_lexer": "ipython3",
   "version": "3.11.11"
  }
 },
 "nbformat": 4,
 "nbformat_minor": 2
}
